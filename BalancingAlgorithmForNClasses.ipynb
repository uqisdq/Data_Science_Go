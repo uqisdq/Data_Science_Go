{
 "cells": [
  {
   "cell_type": "code",
   "execution_count": 10,
   "id": "74c74976-b470-498b-942f-eba920ba8415",
   "metadata": {},
   "outputs": [],
   "source": [
    "import numpy as np\n",
    "import pandas as pd\n",
    "cobabalancing = pd.read_csv('kucinganjingmonyet.csv', header= None)"
   ]
  },
  {
   "cell_type": "code",
   "execution_count": 2,
   "id": "7ff23366-5ee1-468b-bfc8-6701579650cd",
   "metadata": {},
   "outputs": [
    {
     "name": "stdout",
     "output_type": "stream",
     "text": [
      "yes\n"
     ]
    }
   ],
   "source": [
    "cobabalancing=cobabalancing.to_numpy()\n",
    "if cobabalancing[1]=='kucing':\n",
    "    print('yes')"
   ]
  },
  {
   "cell_type": "code",
   "execution_count": 3,
   "id": "4758d23f-00fe-48f6-ad36-00c6c29738bc",
   "metadata": {},
   "outputs": [
    {
     "data": {
      "text/plain": [
       "{'anjing': 71, 'kucing': 21, 'monyet': 43}"
      ]
     },
     "execution_count": 3,
     "metadata": {},
     "output_type": "execute_result"
    }
   ],
   "source": [
    "unique, counts = np.unique(cobabalancing, return_counts=True)\n",
    "dict(zip(unique, counts))"
   ]
  },
  {
   "cell_type": "code",
   "execution_count": 4,
   "id": "6b42396f-3213-4d91-9519-35a397ea0af9",
   "metadata": {},
   "outputs": [
    {
     "name": "stdout",
     "output_type": "stream",
     "text": [
      "50\n",
      "22\n",
      "[113, 114, 115, 116, 117, 118, 119, 120, 121, 122, 123, 124, 125, 126, 127, 128, 129, 130, 131, 132, 133, 134]\n"
     ]
    }
   ],
   "source": [
    "kucingcounter = 21\n",
    "anjingcounter = 0\n",
    "monyetcounter = 0\n",
    "indices_anjing_remove = []\n",
    "indices_monyet_remove = []\n",
    "\n",
    "for i in range(cobabalancing.shape[0]):\n",
    "    if cobabalancing[i] =='anjing':\n",
    "        anjingcounter +=1\n",
    "        if anjingcounter > kucingcounter:\n",
    "            indices_anjing_remove.append(i)\n",
    "    if cobabalancing[i] ==\"monyet\" :\n",
    "        monyetcounter +=1\n",
    "        if monyetcounter > kucingcounter:\n",
    "            indices_monyet_remove.append(i)\n",
    "            \n",
    "\n",
    "indices_anjing_counter = np.array(indices_anjing_remove)\n",
    "print(indices_anjing_counter.shape[0])\n",
    "\n",
    "indices_monyet_counter = np.array(indices_monyet_remove)\n",
    "print(indices_monyet_counter.shape[0])\n",
    "print(indices_monyet_remove)\n",
    "#unscalled_but_balanced_priors = np.delete(unscalleddata, indices_to_remove, axis=0)\n",
    "#target_balanced_priors = np.delete(alltargets, indices_to_remove, axis=0)"
   ]
  },
  {
   "cell_type": "code",
   "execution_count": 5,
   "id": "c49ac025-9158-4e47-a9bc-719a32feac06",
   "metadata": {},
   "outputs": [],
   "source": [
    "indicestoremove = np.append(indices_anjing_remove,indices_monyet_remove)"
   ]
  },
  {
   "cell_type": "code",
   "execution_count": 6,
   "id": "f1548b03-ffb0-40e6-89a2-82e75939a724",
   "metadata": {},
   "outputs": [
    {
     "data": {
      "text/plain": [
       "array([ 42,  43,  44,  45,  46,  47,  48,  49,  50,  51,  52,  53,  54,\n",
       "        55,  56,  57,  58,  59,  60,  61,  62,  63,  64,  65,  66,  67,\n",
       "        68,  69,  70,  71,  72,  73,  74,  75,  76,  77,  78,  79,  80,\n",
       "        81,  82,  83,  84,  85,  86,  87,  88,  89,  90,  91, 113, 114,\n",
       "       115, 116, 117, 118, 119, 120, 121, 122, 123, 124, 125, 126, 127,\n",
       "       128, 129, 130, 131, 132, 133, 134])"
      ]
     },
     "execution_count": 6,
     "metadata": {},
     "output_type": "execute_result"
    }
   ],
   "source": [
    "indicestoremove"
   ]
  },
  {
   "cell_type": "code",
   "execution_count": 7,
   "id": "1f383f67-8517-47ab-89ba-5b2357492a72",
   "metadata": {},
   "outputs": [],
   "source": [
    "balanceddata = np.delete(cobabalancing, indicestoremove, axis = 0)"
   ]
  },
  {
   "cell_type": "code",
   "execution_count": 8,
   "id": "6b2ac7b4-e3c6-458a-957c-b8c86b152a96",
   "metadata": {},
   "outputs": [
    {
     "data": {
      "text/plain": [
       "63"
      ]
     },
     "execution_count": 8,
     "metadata": {},
     "output_type": "execute_result"
    }
   ],
   "source": [
    "balanceddata.shape[0]"
   ]
  },
  {
   "cell_type": "code",
   "execution_count": null,
   "id": "5c6b2ef9-8fb6-44cb-b5c6-ec8f5298f7b0",
   "metadata": {},
   "outputs": [],
   "source": []
  }
 ],
 "metadata": {
  "kernelspec": {
   "display_name": "Python 3",
   "language": "python",
   "name": "python3"
  },
  "language_info": {
   "codemirror_mode": {
    "name": "ipython",
    "version": 3
   },
   "file_extension": ".py",
   "mimetype": "text/x-python",
   "name": "python",
   "nbconvert_exporter": "python",
   "pygments_lexer": "ipython3",
   "version": "3.9.2"
  }
 },
 "nbformat": 4,
 "nbformat_minor": 5
}
