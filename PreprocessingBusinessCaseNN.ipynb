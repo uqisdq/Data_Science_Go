{
 "cells": [
  {
   "cell_type": "code",
   "execution_count": 1,
   "id": "1f08c48d-4d95-44c0-b77c-4be335141189",
   "metadata": {},
   "outputs": [],
   "source": [
    "import numpy as np\n",
    "from sklearn import preprocessing as pp"
   ]
  },
  {
   "cell_type": "code",
   "execution_count": 21,
   "id": "1a7c5262-0114-45ad-b55a-bd11d4c9b367",
   "metadata": {},
   "outputs": [
    {
     "name": "stdout",
     "output_type": "stream",
     "text": [
      "yes\n",
      "14084\n"
     ]
    }
   ],
   "source": [
    "rawcsv=np.loadtxt('Audiobooks_data.csv', delimiter=',')\n",
    "unscalleddata=rawcsv[:,1:-1]\n",
    "\n",
    "alltargets=rawcsv[:,-1]\n",
    "\n",
    "if alltargets[100] ==int(1):\n",
    "    print('yes')\n",
    "\n",
    "print(alltargets.shape[0])"
   ]
  },
  {
   "cell_type": "code",
   "execution_count": 11,
   "id": "5176153e-bcdd-4efa-81be-7ba37c934e60",
   "metadata": {},
   "outputs": [
    {
     "data": {
      "text/plain": [
       "4474"
      ]
     },
     "execution_count": 11,
     "metadata": {},
     "output_type": "execute_result"
    }
   ],
   "source": [
    "#balancingthedatasets\n",
    "#there are 14084 sum of datas, with 2237 having targets 1, and the rest having target 0, and it is really unballance\n",
    "num_one_targets = int(np.sum(alltargets))\n",
    "zero_targets_counter = 0\n",
    "indices_to_remove= []\n",
    "\n",
    "for i in range(alltargets.shape[0]):\n",
    "    if alltargets[i] ==0:\n",
    "        zero_targets_counter +=1\n",
    "        if zero_targets_counter > num_one_targets:\n",
    "            indices_to_remove.append(i)\n",
    "            \n",
    "unscalled_but_balanced_priors = np.delete(unscalleddata, indices_to_remove, axis=0)\n",
    "target_balanced_priors = np.delete(alltargets, indices_to_remove, axis=0)"
   ]
  },
  {
   "cell_type": "code",
   "execution_count": 12,
   "id": "642b5c75-f2bc-43ec-9910-90d5a7540346",
   "metadata": {},
   "outputs": [],
   "source": [
    "#Standardize the inputs\n",
    "\n",
    "scaleddata = pp.scale(unscalled_but_balanced_priors)"
   ]
  },
  {
   "cell_type": "code",
   "execution_count": 13,
   "id": "a1fd8358-8ce6-4bc4-b5f3-66c6ea78b8ed",
   "metadata": {},
   "outputs": [],
   "source": [
    "#Shuffle the data\n",
    "\n",
    "shuffler_indices = np.arange(scaleddata.shape[0])\n",
    "np.random.shuffle(shuffler_indices)\n",
    "\n",
    "shuffledinputs = scaleddata[shuffler_indices]\n",
    "shuffledtargets = target_balanced_priors[shuffler_indices]"
   ]
  },
  {
   "cell_type": "code",
   "execution_count": 18,
   "id": "28719eb9-cffd-48a3-ba92-f1c2e8ec8c35",
   "metadata": {},
   "outputs": [],
   "source": [
    "#train validation test split\n",
    "\n",
    "samples_count = shuffledinputs.shape[0]\n",
    "\n",
    "trainsamplescount = int(0.8*samples_count)\n",
    "validationsamplescount = int(0.1*samples_count)\n",
    "testsamplescount = samples_count - trainsamplescount - validationsamplescount\n",
    "\n",
    "traininputs = shuffledinputs[:trainsamplescount]\n",
    "traintargets = shuffledtargets[:trainsamplescount]\n",
    "\n",
    "validationinputs = shuffledinputs[trainsamplescount:trainsamplescount + validationsamplescount]\n",
    "validationtargets = shuffledtargets[trainsamplescount:trainsamplescount + validationsamplescount]\n",
    "\n",
    "testinputs = shuffledinputs[trainsamplescount+validationsamplescount:]\n",
    "testtargets = shuffledtargets[trainsamplescount+validationsamplescount:]"
   ]
  },
  {
   "cell_type": "code",
   "execution_count": 19,
   "id": "193bd12c-bfbc-40bb-b143-41c49511e22e",
   "metadata": {},
   "outputs": [],
   "source": [
    "#saving as npz\n",
    "\n",
    "np.savez('audibooks_data_train', inputs=traininputs, targets=traintargets)\n",
    "np.savez('audibooks_data_validation', inputs=validationinputs, targets=validationtargets)\n",
    "np.savez('audibooks_data_test', inputs=testinputs, targets=testtargets)"
   ]
  },
  {
   "cell_type": "code",
   "execution_count": null,
   "id": "840c8897-08a1-4f14-ae73-33204be38379",
   "metadata": {},
   "outputs": [],
   "source": []
  },
  {
   "cell_type": "code",
   "execution_count": null,
   "id": "15d8e7b4-6f00-48a9-9e70-4a62fae2d24e",
   "metadata": {},
   "outputs": [],
   "source": [
    "\n",
    "\n"
   ]
  },
  {
   "cell_type": "code",
   "execution_count": null,
   "id": "d2697771-a4b3-426c-a84c-24967af345ac",
   "metadata": {},
   "outputs": [],
   "source": []
  },
  {
   "cell_type": "code",
   "execution_count": null,
   "id": "33a436ba-fcbc-436d-86fc-94c6e84209be",
   "metadata": {},
   "outputs": [],
   "source": []
  },
  {
   "cell_type": "code",
   "execution_count": null,
   "id": "f8b14e3f-07f5-4579-8e65-ade8fdd446b4",
   "metadata": {},
   "outputs": [],
   "source": []
  },
  {
   "cell_type": "code",
   "execution_count": null,
   "id": "118c7ac4-97a3-4795-871e-8a3ffb2b5c53",
   "metadata": {},
   "outputs": [],
   "source": []
  }
 ],
 "metadata": {
  "kernelspec": {
   "display_name": "Python 3",
   "language": "python",
   "name": "python3"
  },
  "language_info": {
   "codemirror_mode": {
    "name": "ipython",
    "version": 3
   },
   "file_extension": ".py",
   "mimetype": "text/x-python",
   "name": "python",
   "nbconvert_exporter": "python",
   "pygments_lexer": "ipython3",
   "version": "3.9.2"
  }
 },
 "nbformat": 4,
 "nbformat_minor": 5
}
