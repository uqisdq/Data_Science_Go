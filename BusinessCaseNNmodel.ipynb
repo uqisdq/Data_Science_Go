{
 "cells": [
  {
   "cell_type": "code",
   "execution_count": 1,
   "id": "972437ae-6bb1-4ab1-ad74-d29861222d7c",
   "metadata": {},
   "outputs": [],
   "source": [
    "import numpy as np\n",
    "import tensorflow as tf"
   ]
  },
  {
   "cell_type": "code",
   "execution_count": 4,
   "id": "824c1fc0-0d6b-4bc9-986c-279cb6d3297d",
   "metadata": {},
   "outputs": [],
   "source": [
    "npz = np.load('audibooks_data_train.npz')\n",
    "traininputs, traintargets = npz['inputs'].astype(np.float), npz['targets'].astype(np.int)\n",
    "\n",
    "npz = np.load('audibooks_data_validation.npz')\n",
    "validationinputs, validationtargets = npz['inputs'].astype(np.float), npz['targets'].astype(np.int)\n",
    "\n",
    "npz = np.load('audibooks_data_test.npz')\n",
    "testinputs, testtargets = npz['inputs'].astype(np.float), npz['targets'].astype(np.int)"
   ]
  },
  {
   "cell_type": "code",
   "execution_count": 8,
   "id": "36db8697-3837-4544-9b48-5e8926ae7836",
   "metadata": {},
   "outputs": [
    {
     "name": "stdout",
     "output_type": "stream",
     "text": [
      "Epoch 1/100\n",
      "36/36 - 1s - loss: 0.5660 - accuracy: 0.7748 - val_loss: 0.4184 - val_accuracy: 0.8680\n",
      "Epoch 2/100\n",
      "36/36 - 0s - loss: 0.3705 - accuracy: 0.8748 - val_loss: 0.2941 - val_accuracy: 0.8971\n",
      "Epoch 3/100\n",
      "36/36 - 0s - loss: 0.3163 - accuracy: 0.8871 - val_loss: 0.2712 - val_accuracy: 0.8971\n",
      "Epoch 4/100\n",
      "36/36 - 0s - loss: 0.2992 - accuracy: 0.8882 - val_loss: 0.2631 - val_accuracy: 0.8971\n",
      "Epoch 5/100\n",
      "36/36 - 0s - loss: 0.2858 - accuracy: 0.8952 - val_loss: 0.2588 - val_accuracy: 0.9038\n",
      "Epoch 6/100\n",
      "36/36 - 0s - loss: 0.2781 - accuracy: 0.8980 - val_loss: 0.2535 - val_accuracy: 0.9038\n",
      "Epoch 7/100\n",
      "36/36 - 0s - loss: 0.2694 - accuracy: 0.8983 - val_loss: 0.2523 - val_accuracy: 0.8949\n",
      "Epoch 8/100\n",
      "36/36 - 0s - loss: 0.2621 - accuracy: 0.9022 - val_loss: 0.2462 - val_accuracy: 0.9016\n",
      "Epoch 9/100\n",
      "36/36 - 0s - loss: 0.2594 - accuracy: 0.9022 - val_loss: 0.2465 - val_accuracy: 0.8993\n",
      "Epoch 10/100\n",
      "36/36 - 0s - loss: 0.2541 - accuracy: 0.9025 - val_loss: 0.2436 - val_accuracy: 0.9016\n",
      "Epoch 11/100\n",
      "36/36 - 0s - loss: 0.2500 - accuracy: 0.9044 - val_loss: 0.2426 - val_accuracy: 0.9016\n",
      "Epoch 12/100\n",
      "36/36 - 0s - loss: 0.2477 - accuracy: 0.9081 - val_loss: 0.2410 - val_accuracy: 0.9038\n",
      "Epoch 13/100\n",
      "36/36 - 0s - loss: 0.2453 - accuracy: 0.9078 - val_loss: 0.2419 - val_accuracy: 0.9038\n",
      "Epoch 14/100\n",
      "36/36 - 0s - loss: 0.2443 - accuracy: 0.9084 - val_loss: 0.2393 - val_accuracy: 0.9105\n",
      "Epoch 15/100\n",
      "36/36 - 0s - loss: 0.2420 - accuracy: 0.9100 - val_loss: 0.2396 - val_accuracy: 0.9150\n",
      "Epoch 16/100\n",
      "36/36 - 0s - loss: 0.2419 - accuracy: 0.9095 - val_loss: 0.2399 - val_accuracy: 0.9105\n",
      "Epoch 17/100\n",
      "36/36 - 0s - loss: 0.2397 - accuracy: 0.9092 - val_loss: 0.2383 - val_accuracy: 0.9128\n",
      "Epoch 18/100\n",
      "36/36 - 0s - loss: 0.2377 - accuracy: 0.9103 - val_loss: 0.2342 - val_accuracy: 0.9060\n",
      "Epoch 19/100\n",
      "36/36 - 0s - loss: 0.2375 - accuracy: 0.9111 - val_loss: 0.2363 - val_accuracy: 0.9105\n",
      "Epoch 20/100\n",
      "36/36 - 0s - loss: 0.2347 - accuracy: 0.9114 - val_loss: 0.2350 - val_accuracy: 0.9128\n",
      "Epoch 21/100\n",
      "36/36 - 0s - loss: 0.2348 - accuracy: 0.9128 - val_loss: 0.2358 - val_accuracy: 0.9128\n"
     ]
    },
    {
     "data": {
      "text/plain": [
       "<tensorflow.python.keras.callbacks.History at 0x19a78234940>"
      ]
     },
     "execution_count": 8,
     "metadata": {},
     "output_type": "execute_result"
    }
   ],
   "source": [
    "inputsize = 10\n",
    "outputsize = 2\n",
    "hiddenlayersize = 50\n",
    "\n",
    "model = tf.keras.Sequential([\n",
    "                            tf.keras.layers.Dense(hiddenlayersize, activation = 'relu'), \n",
    "                            tf.keras.layers.Dense(hiddenlayersize, activation = 'relu'), \n",
    "                            tf.keras.layers.Dense(outputsize, activation = 'softmax') \n",
    "                            ])\n",
    "\n",
    "model.compile(optimizer='adam',loss='sparse_categorical_crossentropy',metrics='accuracy')\n",
    "\n",
    "nepochs = 100\n",
    "nbatches = 100\n",
    "\n",
    "#early stopping to stop the epochs when the quality considered worsened\n",
    "\n",
    "earlystopping = tf.keras.callbacks.EarlyStopping(patience = 3)\n",
    "#patience determine how many validation loss we can tolerate\n",
    "\n",
    "model.fit(traininputs,traintargets,\n",
    "          batch_size=nbatches,\n",
    "          epochs=nepochs,\n",
    "          callbacks=[earlystopping],\n",
    "          validation_data=(validationinputs,validationtargets),\n",
    "          verbose=2)"
   ]
  },
  {
   "cell_type": "code",
   "execution_count": 11,
   "id": "3c097a70-bb6b-4cba-8b8b-4924a14279df",
   "metadata": {},
   "outputs": [
    {
     "name": "stdout",
     "output_type": "stream",
     "text": [
      "14/14 [==============================] - 0s 4ms/step - loss: 0.2247 - accuracy: 0.9085\n"
     ]
    }
   ],
   "source": [
    "test_loss, test_accuracy = model.evaluate(testinputs,testtargets)"
   ]
  },
  {
   "cell_type": "code",
   "execution_count": 66,
   "id": "d2efd114-882e-4217-a678-0a6e3e8e51dd",
   "metadata": {},
   "outputs": [
    {
     "name": "stderr",
     "output_type": "stream",
     "text": [
      "c:\\users\\rifqi\\appdata\\local\\programs\\python\\python39\\lib\\site-packages\\seaborn\\distributions.py:2557: FutureWarning: `distplot` is a deprecated function and will be removed in a future version. Please adapt your code to use either `displot` (a figure-level function with similar flexibility) or `histplot` (an axes-level function for histograms).\n",
      "  warnings.warn(msg, FutureWarning)\n"
     ]
    },
    {
     "data": {
      "text/plain": [
       "<AxesSubplot:ylabel='Density'>"
      ]
     },
     "execution_count": 66,
     "metadata": {},
     "output_type": "execute_result"
    },
    {
     "data": {
      "image/png": "[encoded data removed]",
      "text/plain": [
       "<Figure size 432x288 with 1 Axes>"
      ]
     },
     "metadata": {
      "needs_background": "light"
     },
     "output_type": "display_data"
    }
   ],
   "source": [
    "import seaborn as sns\n",
    "import matplotlib.pyplot as plt\n",
    "\n",
    "#manual evaluation\n",
    "predictedtargets = model.predict(testinputs)\n",
    "outputspredicted = []\n",
    "\n",
    "for i in range(predictedtargets.shape[0]):\n",
    "        if predictedtargets[i,0]>predictedtargets[i,1]:\n",
    "            outputspredicted.append(0)\n",
    "        elif predictedtargets[i,0]<predictedtargets[i,1]:\n",
    "            outputspredicted.append(1)\n",
    "            \n",
    "ooooo = np.array(outputspredicted)\n",
    "sns.distplot(ooooo-testtargets)"
   ]
  },
  {
   "cell_type": "code",
   "execution_count": null,
   "id": "dd8214c4-fc85-4900-aa45-a6c1c412f81d",
   "metadata": {},
   "outputs": [],
   "source": []
  },
  {
   "cell_type": "code",
   "execution_count": null,
   "id": "56546525-e554-42ea-9b82-040c529f19a4",
   "metadata": {},
   "outputs": [],
   "source": []
  }
 ],
 "metadata": {
  "kernelspec": {
   "display_name": "Python 3",
   "language": "python",
   "name": "python3"
  },
  "language_info": {
   "codemirror_mode": {
    "name": "ipython",
    "version": 3
   },
   "file_extension": ".py",
   "mimetype": "text/x-python",
   "name": "python",
   "nbconvert_exporter": "python",
   "pygments_lexer": "ipython3",
   "version": "3.9.2"
  }
 },
 "nbformat": 4,
 "nbformat_minor": 5
}
